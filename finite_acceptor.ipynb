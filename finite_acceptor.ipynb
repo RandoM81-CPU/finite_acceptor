{
  "nbformat": 4,
  "nbformat_minor": 0,
  "metadata": {
    "colab": {
      "name": "Добро пожаловать в Colaboratory!",
      "provenance": [],
      "collapsed_sections": [],
      "toc_visible": true
    },
    "kernelspec": {
      "display_name": "Python 3",
      "name": "python3"
    }
  },
  "cells": [
    {
      "cell_type": "code",
      "metadata": {
        "id": "6bMdIHtnk4At",
        "outputId": "cdfd81b3-831c-429e-829e-33fd73ade648",
        "colab": {
          "base_uri": "https://localhost:8080/"
        }
      },
      "source": [
        "def prime(fn):\r\n",
        "    def wrapper(*args, **kwargs):\r\n",
        "        v = fn(*args, **kwargs)\r\n",
        "        v.send(None)\r\n",
        "        return v\r\n",
        "    return wrapper\r\n",
        "\r\n",
        "class RegexFSM:\r\n",
        "    def __init__(self):\r\n",
        "        self.start = self._create_start()\r\n",
        "        self.q1 = self._create_q1()\r\n",
        "        self.q2 = self._create_q2()\r\n",
        "        self.q3 = self._create_q3()\r\n",
        "        \r\n",
        "        self.current_state = self.start\r\n",
        "        self.stopped = False\r\n",
        "        \r\n",
        "    def send(self, char):\r\n",
        "        try:\r\n",
        "            self.current_state.send(char)\r\n",
        "        except StopIteration:\r\n",
        "            self.stopped = True\r\n",
        "        \r\n",
        "    def does_match(self):\r\n",
        "        if self.stopped:\r\n",
        "            return False\r\n",
        "        return self.current_state == self.q3\r\n",
        "\r\n",
        "    @prime\r\n",
        "    def _create_start(self):\r\n",
        "        while True:\r\n",
        "            char = yield\r\n",
        "            if char == 'a':\r\n",
        "                self.current_state = self.q1\r\n",
        "            else:\r\n",
        "                break\r\n",
        "    \r\n",
        "    @prime\r\n",
        "    def _create_q1(self):\r\n",
        "        while True:\r\n",
        "            char = yield\r\n",
        "            if char == 'b':\r\n",
        "                self.current_state = self.q2\r\n",
        "            elif char == 'c':\r\n",
        "                self.current_state = self.q3\r\n",
        "            else:\r\n",
        "                break\r\n",
        "\r\n",
        "    @prime\r\n",
        "    def _create_q2(self):\r\n",
        "        while True:\r\n",
        "            char = yield\r\n",
        "            if char == 'b':\r\n",
        "                self.current_state = self.q2\r\n",
        "            elif char == 'c':\r\n",
        "                self.current_state = self.q3\r\n",
        "            else:\r\n",
        "                break\r\n",
        "\r\n",
        "    @prime\r\n",
        "    def _create_q3(self):\r\n",
        "        while True:\r\n",
        "            char = yield\r\n",
        "            break\r\n",
        "\r\n",
        "def grep_regex(text):\r\n",
        "    evaluator = RegexFSM()\r\n",
        "    for ch in text:\r\n",
        "        evaluator.send(ch)\r\n",
        "    return evaluator.does_match()"
      ],
      "execution_count": 8,
      "outputs": [
        {
          "output_type": "execute_result",
          "data": {
            "text/plain": [
              "False"
            ]
          },
          "metadata": {
            "tags": []
          },
          "execution_count": 8
        }
      ]
    },
    {
      "cell_type": "code",
      "metadata": {
        "id": "ISGwliQInWqU",
        "outputId": "5864afb1-703a-49f3-8fcd-51da46f2487d",
        "colab": {
          "base_uri": "https://localhost:8080/"
        }
      },
      "source": [
        "grep_regex(\"abc\")"
      ],
      "execution_count": 14,
      "outputs": [
        {
          "output_type": "execute_result",
          "data": {
            "text/plain": [
              "True"
            ]
          },
          "metadata": {
            "tags": []
          },
          "execution_count": 14
        }
      ]
    },
    {
      "cell_type": "code",
      "metadata": {
        "id": "v8KTYAJTnWzm",
        "outputId": "1df1ce3f-d2fe-48f4-83f8-1604c7164dac",
        "colab": {
          "base_uri": "https://localhost:8080/"
        }
      },
      "source": [
        "grep_regex(\"ac\")"
      ],
      "execution_count": 15,
      "outputs": [
        {
          "output_type": "execute_result",
          "data": {
            "text/plain": [
              "True"
            ]
          },
          "metadata": {
            "tags": []
          },
          "execution_count": 15
        }
      ]
    },
    {
      "cell_type": "code",
      "metadata": {
        "id": "LA0gBcIanYwN",
        "outputId": "e05906bb-351f-492c-c371-b7faf9b94824",
        "colab": {
          "base_uri": "https://localhost:8080/"
        }
      },
      "source": [
        "grep_regex(\"abcd\")"
      ],
      "execution_count": 16,
      "outputs": [
        {
          "output_type": "execute_result",
          "data": {
            "text/plain": [
              "False"
            ]
          },
          "metadata": {
            "tags": []
          },
          "execution_count": 16
        }
      ]
    }
  ]
}